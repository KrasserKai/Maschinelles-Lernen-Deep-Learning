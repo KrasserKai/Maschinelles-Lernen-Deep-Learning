{
 "cells": [
  {
   "cell_type": "markdown",
   "id": "e4d7949a",
   "metadata": {},
   "source": [
    "# 1. Explorative Analyse des Datensatzes ''Boston Housing''\n",
    "## a) Führen Sie für diesen Datensatz eine explorative Analyse wie in der Vorlesung gezeigt mithilfe eines IPython-Notebooks und den Paketen Pandas und Numpy durch. "
   ]
  },
  {
   "cell_type": "markdown",
   "id": "58f434f1",
   "metadata": {},
   "source": [
    "Einbinden von packages"
   ]
  },
  {
   "cell_type": "code",
   "execution_count": null,
   "id": "7f93df17",
   "metadata": {},
   "outputs": [],
   "source": [
    "import matplotlib.pyplot as plt\n",
    "import numpy as np\n",
    "import pandas as pd\n",
    "%matplotlib inline\n",
    "%load_ext version_information"
   ]
  },
  {
   "cell_type": "markdown",
   "id": "c6138f2b",
   "metadata": {},
   "source": [
    "Einlesen der Daten"
   ]
  },
  {
   "cell_type": "code",
   "execution_count": null,
   "id": "83a68e69",
   "metadata": {},
   "outputs": [],
   "source": [
    "url = 'https://archive.ics.uci.edu/ml/machine-learning-databases/housing/housing.data'\n",
    "cols = ['CRIM','ZN','INDUS','CHAS','NOX','RM','AGE','DIS','RAD','TAX','PTRATIO','B',\n",
    "        'LSTAT','TGT']\n",
    "boston = pd.read_csv(url, sep=' ', skipinitialspace=True, header=None, names=cols, \n",
    "                     index_col=False)"
   ]
  },
  {
   "cell_type": "markdown",
   "id": "cdf94e13",
   "metadata": {},
   "source": [
    " Darstellung als Pandas-DataFrame"
   ]
  },
  {
   "cell_type": "code",
   "execution_count": null,
   "id": "7505e5ff",
   "metadata": {
    "scrolled": true
   },
   "outputs": [],
   "source": [
    "boston"
   ]
  },
  {
   "cell_type": "markdown",
   "id": "c8b2dd4e",
   "metadata": {},
   "source": [
    "Anzahl der Reihen und Spalten vor dem Bereinigen"
   ]
  },
  {
   "cell_type": "code",
   "execution_count": null,
   "id": "a7151065",
   "metadata": {},
   "outputs": [],
   "source": [
    "np.shape(boston)"
   ]
  },
  {
   "cell_type": "markdown",
   "id": "f0751405",
   "metadata": {},
   "source": [
    "Messungen mit NaNs entfernen"
   ]
  },
  {
   "cell_type": "code",
   "execution_count": null,
   "id": "c04af4c5",
   "metadata": {},
   "outputs": [],
   "source": [
    "#boston.isna().any()\n",
    "boston = boston.dropna()"
   ]
  },
  {
   "cell_type": "markdown",
   "id": "580e9f58",
   "metadata": {},
   "source": [
    "Duplikate (doppelte Messungen) entfernen"
   ]
  },
  {
   "cell_type": "code",
   "execution_count": null,
   "id": "78de9fcd",
   "metadata": {},
   "outputs": [],
   "source": [
    "#boston.duplicated().any()\n",
    "boston = boston.drop_duplicates()"
   ]
  },
  {
   "cell_type": "markdown",
   "id": "90080436",
   "metadata": {},
   "source": [
    "Anzahl der Reihen und Spalten nach dem Bereinigen"
   ]
  },
  {
   "cell_type": "code",
   "execution_count": null,
   "id": "0e8263ec",
   "metadata": {},
   "outputs": [],
   "source": [
    "np.shape(boston)"
   ]
  },
  {
   "cell_type": "markdown",
   "id": "9cbe44f7",
   "metadata": {},
   "source": [
    "## b) Beantworten Sie anhand der Darstellung der Streumatrix folgende Fragen:"
   ]
  },
  {
   "cell_type": "markdown",
   "id": "a682cc75",
   "metadata": {},
   "source": [
    "Statistische Beschreibung der numerischen Variablen"
   ]
  },
  {
   "cell_type": "code",
   "execution_count": null,
   "id": "409198c4",
   "metadata": {
    "scrolled": true
   },
   "outputs": [],
   "source": [
    "boston.describe()"
   ]
  },
  {
   "cell_type": "markdown",
   "id": "6fe44065",
   "metadata": {},
   "source": [
    "Streumatrix"
   ]
  },
  {
   "cell_type": "code",
   "execution_count": null,
   "id": "0b420a47",
   "metadata": {
    "scrolled": false
   },
   "outputs": [],
   "source": [
    "pd.plotting.scatter_matrix(boston, figsize=(14,14), marker='o');"
   ]
  },
  {
   "cell_type": "markdown",
   "id": "84acdd5f",
   "metadata": {},
   "source": [
    "### Welche der Variablen eignen sich gut zur Vorhersage des Hauspreises (TGT) und warum?\n",
    "RM und LSTAT. Die Verteilung der Daten folgt beliebig ausgerichteten Ellipsen (Diagonalen). Die Korrelation ist hoch."
   ]
  },
  {
   "cell_type": "markdown",
   "id": "46e2a96d",
   "metadata": {},
   "source": [
    "### Welche der Variablen sind kategorisch?\n",
    "CHAS -> [Ja/Nein] Grenzt es an einen Fluss oder nicht?"
   ]
  },
  {
   "cell_type": "markdown",
   "id": "e2dedacc",
   "metadata": {},
   "source": [
    "### Welche dieser Variablen sind miteinander korreliert?\n"
   ]
  },
  {
   "cell_type": "code",
   "execution_count": null,
   "id": "4bb0ad17",
   "metadata": {},
   "outputs": [],
   "source": [
    "def color_yes_no(v):\n",
    "    return f\"color: green;\" if v > 0.5 else f\"color: red;\"\n",
    "df = pd.DataFrame(boston.corr().abs())\n",
    "df.style.map(color_yes_no)"
   ]
  },
  {
   "cell_type": "markdown",
   "id": "973f5daa",
   "metadata": {},
   "source": [
    "### Welche sind daher Kandidaten, die man evtl. weglassen könnte?\n",
    "NOX, INDUS und TAX korrelieren stark mit 7 anderen Variablen. AGE und LSTAT jeweils mit 6. Man könnte diese evtl. weglassen."
   ]
  },
  {
   "cell_type": "markdown",
   "id": "93fb18bf",
   "metadata": {},
   "source": [
    "## c) Die Dokumentation der eingesetzten Systemkonfiguration und Paketversionen erfolgt durch das Skript version_information von R. H. Johanson."
   ]
  },
  {
   "cell_type": "code",
   "execution_count": null,
   "id": "597e772a",
   "metadata": {},
   "outputs": [],
   "source": [
    "%version_information"
   ]
  }
 ],
 "metadata": {
  "kernelspec": {
   "display_name": "Python 3 (ipykernel)",
   "language": "python",
   "name": "python3"
  },
  "language_info": {
   "codemirror_mode": {
    "name": "ipython",
    "version": 3
   },
   "file_extension": ".py",
   "mimetype": "text/x-python",
   "name": "python",
   "nbconvert_exporter": "python",
   "pygments_lexer": "ipython3",
   "version": "3.12.0"
  }
 },
 "nbformat": 4,
 "nbformat_minor": 5
}
