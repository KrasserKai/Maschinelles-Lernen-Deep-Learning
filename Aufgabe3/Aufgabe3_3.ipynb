{
 "cells": [
  {
   "cell_type": "markdown",
   "metadata": {},
   "source": [
    "# 3. Klassifikation mit Random Forests und Boosting"
   ]
  },
  {
   "cell_type": "code",
   "execution_count": 1,
   "metadata": {},
   "outputs": [],
   "source": [
    "import numpy as np\n",
    "import pandas as pd\n",
    "import matplotlib.pyplot as plt\n",
    "%load_ext version_information"
   ]
  },
  {
   "cell_type": "markdown",
   "metadata": {},
   "source": [
    "a) Wiederholen Sie Aufgabe 1 b mit einem Random Forest. Teilen Sie dazu den Datensatz wieder in einen Trainings- und Testdatensatz. Bestimmen Sie den Fehler auf den Testdaten und vergleichen Sie ihn mit dem ”out of bag”-Fehler."
   ]
  },
  {
   "cell_type": "code",
   "execution_count": 2,
   "metadata": {},
   "outputs": [
    {
     "name": "stdout",
     "output_type": "stream",
     "text": [
      "Trainingsdaten Treffergenauigkeit: 1.000000\n",
      "Testdatensatz Treffergenauigkeit: 0.971111\n",
      "Out-of-Bag (OOB) Fehler: 0.034150\n"
     ]
    }
   ],
   "source": [
    "from sklearn.ensemble import RandomForestClassifier\n",
    "from sklearn.model_selection import train_test_split\n",
    "from sklearn.datasets import load_digits\n",
    "\n",
    "# Lade Beispiel-Datensatz (hier: Digits Datensatz)\n",
    "digits = load_digits()\n",
    "X, y = digits.data, digits.target\n",
    "\n",
    "# Teile den Datensatz in Trainings- und Testdaten auf\n",
    "X_train, X_test, y_train, y_test = train_test_split(X, y, test_size=0.25, random_state=42)\n",
    "\n",
    "# Initialisiere einen Random Forest Klassifikator\n",
    "random_forest = RandomForestClassifier(n_estimators=100, random_state=42, oob_score=True)\n",
    "\n",
    "# Trainiere den Random Forest auf dem Trainingsdatensatz\n",
    "random_forest.fit(X_train, y_train)\n",
    "\n",
    "# Berechne die Treffergenauigkeit auf dem Trainings- und Testdatensatz\n",
    "train_accuracy = random_forest.score(X_train, y_train)\n",
    "test_accuracy = random_forest.score(X_test, y_test)\n",
    "\n",
    "# Bestimme den \"out of bag\" (OOB)-Fehler\n",
    "oob_error = 1 - random_forest.oob_score_\n",
    "\n",
    "print(f'Trainingsdaten Treffergenauigkeit: {train_accuracy:.6f}')\n",
    "print(f'Testdatensatz Treffergenauigkeit: {test_accuracy:.6f}')\n",
    "print(f'Out-of-Bag (OOB) Fehler: {oob_error:.6f}')"
   ]
  },
  {
   "cell_type": "markdown",
   "metadata": {},
   "source": [
    "b) Wiederholen sie Aufgabe 1 b mit einem Boosting-Verfahren. Sie können dazu entweder die Implementierung von sklearn verwenden oder Sie installieren xgboost (https://github.com/dmlc/xgboost) oder catboost (https://catboost.ai/docs/)."
   ]
  },
  {
   "cell_type": "code",
   "execution_count": 3,
   "metadata": {},
   "outputs": [
    {
     "name": "stdout",
     "output_type": "stream",
     "text": [
      "Testdatensatz Treffergenauigkeit: 0.335556\n"
     ]
    }
   ],
   "source": [
    "from sklearn.ensemble import AdaBoostClassifier\n",
    "from sklearn.tree import DecisionTreeClassifier\n",
    "from sklearn import metrics\n",
    "\n",
    "# Initialisieren des Basisklassifikators (Entscheidungsbaum)\n",
    "base_classifier = DecisionTreeClassifier(max_depth=1)\n",
    "\n",
    "# Initialisieren und trainieren des AdaBoost Klassifikators\n",
    "adaboost_classifier = AdaBoostClassifier(base_classifier, n_estimators=50, random_state=42)\n",
    "adaboost_classifier.fit(X_train, y_train)\n",
    "\n",
    "# Vorhersage auf dem Testdatensatz\n",
    "predictions = adaboost_classifier.predict(X_test)\n",
    "\n",
    "# Berechne die Treffergenauigkeit\n",
    "accuracy = metrics.accuracy_score(y_test, predictions)\n",
    "print(f'Testdatensatz Treffergenauigkeit: {accuracy:.6f}')"
   ]
  },
  {
   "cell_type": "markdown",
   "metadata": {},
   "source": [
    "c) Optional: Finden Sie die optimalen Hyperparameter der Algorithmen mit der in 2 d beschriebenen Gittersuche."
   ]
  },
  {
   "cell_type": "markdown",
   "metadata": {},
   "source": [
    "Random Forest"
   ]
  },
  {
   "cell_type": "code",
   "execution_count": 4,
   "metadata": {},
   "outputs": [
    {
     "name": "stdout",
     "output_type": "stream",
     "text": [
      "Beste Parameter für Random Forest: {'max_depth': None, 'n_estimators': 500}\n",
      "Höchste Treffergenauigkeit für Random Forest: 0.941013\n"
     ]
    }
   ],
   "source": [
    "from sklearn.model_selection import GridSearchCV\n",
    "\n",
    "# Definiere das Gitter fuer die Gittersuche\n",
    "rf_params = {\n",
    "    'n_estimators': [50, 100, 500],\n",
    "    'max_depth': [None, 1]\n",
    "}\n",
    "\n",
    "# Initialisiere den Random Forest Klassifikator\n",
    "rf_classifier = RandomForestClassifier(random_state=42)\n",
    "\n",
    "# Erzeuge das GridSearchCV-Objekt\n",
    "rf_grid_search = GridSearchCV(rf_classifier, rf_params, cv=3)\n",
    "\n",
    "# Fuehre die Gittersuche durch\n",
    "rf_grid_search.fit(X, y)\n",
    "\n",
    "# Zeige den besten Parametersatz und die hoechste Treffergenauigkeit\n",
    "print(f'Beste Parameter für Random Forest: {rf_grid_search.best_params_}')\n",
    "print(f'Höchste Treffergenauigkeit für Random Forest: {rf_grid_search.best_score_:.6f}')"
   ]
  },
  {
   "cell_type": "markdown",
   "metadata": {},
   "source": [
    "AdaBoost"
   ]
  },
  {
   "cell_type": "code",
   "execution_count": 5,
   "metadata": {},
   "outputs": [
    {
     "name": "stdout",
     "output_type": "stream",
     "text": [
      "Beste Parameter für AdaBoost: {'learning_rate': 0.001, 'n_estimators': 50}\n",
      "Höchste Treffergenauigkeit für AdaBoost: 0.781302\n"
     ]
    }
   ],
   "source": [
    "# Definiere das Gitter fuer die Gittersuche\n",
    "adaboost_params = {\n",
    "    'n_estimators': [50, 100, 500],\n",
    "    'learning_rate': [0.001, 0.01, 0.1, 1.0, 10.0]\n",
    "}\n",
    "\n",
    "# Initialisiere den Entscheidungsbaum als Basisklassifikator für AdaBoost\n",
    "base_classifier = DecisionTreeClassifier()\n",
    "\n",
    "# Initialisiere den AdaBoost Klassifikator\n",
    "adaboost_classifier = AdaBoostClassifier(base_classifier, random_state=42)\n",
    "\n",
    "# Erzeuge das GridSearchCV-Objekt\n",
    "adaboost_grid_search = GridSearchCV(adaboost_classifier, adaboost_params, cv=3)\n",
    "\n",
    "# Fuehre die Gittersuche durch\n",
    "adaboost_grid_search.fit(X, y)\n",
    "\n",
    "# Zeige den besten Parametersatz und die hoechste Treffergenauigkeit\n",
    "print(f'Beste Parameter für AdaBoost: {adaboost_grid_search.best_params_}')\n",
    "print(f'Höchste Treffergenauigkeit für AdaBoost: {adaboost_grid_search.best_score_:.6f}')"
   ]
  },
  {
   "cell_type": "code",
   "execution_count": 6,
   "metadata": {},
   "outputs": [
    {
     "data": {
      "application/json": {
       "Software versions": [
        {
         "module": "Python",
         "version": "3.12.0 64bit [MSC v.1935 64 bit (AMD64)]"
        },
        {
         "module": "IPython",
         "version": "8.16.1"
        },
        {
         "module": "OS",
         "version": "Windows 10 10.0.19045 SP0"
        }
       ]
      },
      "text/html": [
       "<table><tr><th>Software</th><th>Version</th></tr><tr><td>Python</td><td>3.12.0 64bit [MSC v.1935 64 bit (AMD64)]</td></tr><tr><td>IPython</td><td>8.16.1</td></tr><tr><td>OS</td><td>Windows 10 10.0.19045 SP0</td></tr><tr><td colspan='2'>Wed Nov 22 20:42:13 2023 Mitteleuropäische Zeit</td></tr></table>"
      ],
      "text/latex": [
       "\\begin{tabular}{|l|l|}\\hline\n",
       "{\\bf Software} & {\\bf Version} \\\\ \\hline\\hline\n",
       "Python & 3.12.0 64bit [MSC v.1935 64 bit (AMD64)] \\\\ \\hline\n",
       "IPython & 8.16.1 \\\\ \\hline\n",
       "OS & Windows 10 10.0.19045 SP0 \\\\ \\hline\n",
       "\\hline \\multicolumn{2}{|l|}{Wed Nov 22 20:42:13 2023 Mitteleuropäische Zeit} \\\\ \\hline\n",
       "\\end{tabular}\n"
      ],
      "text/plain": [
       "Software versions\n",
       "Python 3.12.0 64bit [MSC v.1935 64 bit (AMD64)]\n",
       "IPython 8.16.1\n",
       "OS Windows 10 10.0.19045 SP0\n",
       "Wed Nov 22 20:42:13 2023 Mitteleuropäische Zeit"
      ]
     },
     "execution_count": 6,
     "metadata": {},
     "output_type": "execute_result"
    }
   ],
   "source": [
    "%version_information"
   ]
  }
 ],
 "metadata": {
  "kernelspec": {
   "display_name": ".venv",
   "language": "python",
   "name": "python3"
  },
  "language_info": {
   "codemirror_mode": {
    "name": "ipython",
    "version": 3
   },
   "file_extension": ".py",
   "mimetype": "text/x-python",
   "name": "python",
   "nbconvert_exporter": "python",
   "pygments_lexer": "ipython3",
   "version": "3.12.0"
  }
 },
 "nbformat": 4,
 "nbformat_minor": 2
}
