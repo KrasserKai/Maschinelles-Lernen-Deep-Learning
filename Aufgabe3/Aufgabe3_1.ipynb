{
 "cells": [
  {
   "cell_type": "markdown",
   "metadata": {},
   "source": [
    "# 1. Klassifikation mit SVMs"
   ]
  },
  {
   "cell_type": "code",
   "execution_count": 1,
   "metadata": {},
   "outputs": [],
   "source": [
    "from sklearn import datasets\n",
    "import numpy as np\n",
    "import pandas as pd\n",
    "import matplotlib.pyplot as plt\n",
    "%load_ext version_information"
   ]
  },
  {
   "cell_type": "markdown",
   "metadata": {},
   "source": [
    "a) Laden Sie, wie im Tutorium beschrieben, den berühmten MNIST-Datensatz mit eingescannten handgeschriebenen Ziffern mit der Funktion digits = load_digits(). Grundlegende Informationen zum Datensatz erhalten Sie durch Ausgabe des Attributes digits.DESCR. Die Merkmalsvektoren (hier Bilder) sind die Zeilen der Designmatrix digits.data, die zugehörigen Labels stehen in dem Vektor digits.target. Wie in Arbeitsblatt 1 gelernt, finden Sie heraus, wieviele und welche Labels und wieviele Daten es gibt, und welche Dimension diese haben. Stellen Sie eine Zufallsauswahl von 10 Bildern (zusammen mit der Klassenzugehörigkeit) in Ihrem Notebook dar."
   ]
  },
  {
   "cell_type": "code",
   "execution_count": 2,
   "metadata": {},
   "outputs": [
    {
     "name": "stdout",
     "output_type": "stream",
     "text": [
      "Anzahl der Datenpunkte: 1797\n",
      "Anzahl der Merkmale: 64\n",
      "Klassenzugehörigkeiten: [0 1 2 3 4 5 6 7 8 9]\n",
      "Dimension der Datenmatrix: (1797, 64)\n"
     ]
    },
    {
     "data": {
      "image/png": "[encoded data removed]",
      "text/plain": [
       "<Figure size 1200x600 with 10 Axes>"
      ]
     },
     "metadata": {},
     "output_type": "display_data"
    }
   ],
   "source": [
    "digits = datasets.load_digits()\n",
    "\n",
    "# Grundlegende Informationen zum Datensatz\n",
    "print(\"Anzahl der Datenpunkte:\", len(digits.data))\n",
    "print(\"Anzahl der Merkmale:\", len(digits.feature_names))\n",
    "print(\"Klassenzugehörigkeiten:\", np.unique(digits.target))\n",
    "print(\"Dimension der Datenmatrix:\", digits.data.shape)\n",
    "\n",
    "# Bestimme die Größe der Bilder basierend auf der Anzahl der Merkmale\n",
    "num_features = len(digits.feature_names)\n",
    "image_size = int(np.sqrt(num_features))  # Annahme: quadratische Bilder\n",
    "\n",
    "# Zufallsauswahl von 10 Bildern\n",
    "np.random.seed(42)  # Fuer die Reproduzierbarkeit der Ergebnisse\n",
    "random_indices = np.random.choice(len(digits.data), 10, replace=False)\n",
    "\n",
    "# Darstellung der ausgewaehlten Bilder\n",
    "plt.figure(figsize=(12, 6))\n",
    "for i, index in enumerate(random_indices, 1):\n",
    "    plt.subplot(2, 5, i)\n",
    "    plt.imshow(np.reshape(digits.data[index], (image_size, image_size)), cmap='gray')  # Bilder sind 8x8\n",
    "    plt.title(f\"Label: {digits.target[index]}\")\n",
    "\n",
    "plt.show()"
   ]
  },
  {
   "cell_type": "markdown",
   "metadata": {},
   "source": [
    "b) Teilen Sie den Datensatz zufällig in einen nichtüberlappenden Trainings- und Testdatensatz auf, so dass ein Viertel der Daten zu Testdaten werden. Dies geschieht am Einfachsten mit der Funktion sklearn.model_selection.train_test_split(). Trainieren Sie einen Supportvektor-Klassifikator (Standard in Scikit Learn ist eine 1-Norm Soft Margin SVM, bei Mehrklassenproblemen wird automatisch ein Satz von one-vs.-one-Klassifikatoren erstellt) mit einem RBF-Kern mit und einem Parameter . Bestimmen Sie den Anteil korrekt klassifizierter Beispiele (Korrektklassifikationsrate, Treffergenauigkeit, engl. Accuracy) im Trainings- und Testdatensatz mithilfe der Funktion SVC.score(). Underfitting liegt vor, wenn Ihr Klassifikator auf den Trainingsdatensatz eine Treffergenauigkeit von deutlich unter 100% erzielt, bei Overfitting liegt die Treffergenauigkeit auf dem Testdatensatz deutlich unter der auf dem Trainingsdatensatz. Welcher Fall liegt hier vor?"
   ]
  },
  {
   "cell_type": "code",
   "execution_count": 3,
   "metadata": {},
   "outputs": [
    {
     "name": "stdout",
     "output_type": "stream",
     "text": [
      "Treffergenauigkeit auf Trainingsdatensatz: 0.996288\n",
      "Treffergenauigkeit auf Testdatensatz: 0.986667\n"
     ]
    }
   ],
   "source": [
    "from sklearn.model_selection import train_test_split\n",
    "from sklearn.svm import SVC\n",
    "\n",
    "def train_test_svm(test_size, C, gamma):\n",
    "    # Aufteilen des Datensatzes\n",
    "    X_train, X_test, y_train, y_test = train_test_split(digits.data, digits.target, test_size=test_size, random_state=42)\n",
    "\n",
    "    # Trainieren des Supportvektor-Klassifikators mit RBF-Kern\n",
    "    svm_classifier = SVC(kernel='rbf', C=C, gamma=gamma)  \n",
    "    svm_classifier.fit(X_train, y_train)\n",
    "\n",
    "    # Berechnung der Treffergenauigkeit auf den Trainings- und Testdatensaetzen\n",
    "    train_accuracy = svm_classifier.score(X_train, y_train)\n",
    "    test_accuracy = svm_classifier.score(X_test, y_test)\n",
    "\n",
    "    return train_accuracy, test_accuracy\n",
    "\n",
    "# Beispielaufruf der Funktion\n",
    "train_acc, test_acc = train_test_svm(0.25, 1.0, 'scale')\n",
    "print(f'Treffergenauigkeit auf Trainingsdatensatz: {train_acc:.6f}')\n",
    "print(f'Treffergenauigkeit auf Testdatensatz: {test_acc:.6f}')"
   ]
  },
  {
   "cell_type": "markdown",
   "metadata": {},
   "source": [
    "Probieren Sie alternativ die SVM-Parameter und und vergleichen Sie."
   ]
  },
  {
   "cell_type": "code",
   "execution_count": 4,
   "metadata": {},
   "outputs": [
    {
     "data": {
      "text/html": [
       "<div>\n",
       "<style scoped>\n",
       "    .dataframe tbody tr th:only-of-type {\n",
       "        vertical-align: middle;\n",
       "    }\n",
       "\n",
       "    .dataframe tbody tr th {\n",
       "        vertical-align: top;\n",
       "    }\n",
       "\n",
       "    .dataframe thead th {\n",
       "        text-align: right;\n",
       "    }\n",
       "</style>\n",
       "<table border=\"1\" class=\"dataframe\">\n",
       "  <thead>\n",
       "    <tr style=\"text-align: right;\">\n",
       "      <th></th>\n",
       "      <th>C</th>\n",
       "      <th>gamma</th>\n",
       "      <th>train_accuracy</th>\n",
       "      <th>test_accuracy</th>\n",
       "    </tr>\n",
       "  </thead>\n",
       "  <tbody>\n",
       "    <tr>\n",
       "      <th>0</th>\n",
       "      <td>0.1</td>\n",
       "      <td>0.001</td>\n",
       "      <td>0.970304</td>\n",
       "      <td>0.964444</td>\n",
       "    </tr>\n",
       "    <tr>\n",
       "      <th>1</th>\n",
       "      <td>0.1</td>\n",
       "      <td>0.010</td>\n",
       "      <td>0.107647</td>\n",
       "      <td>0.082222</td>\n",
       "    </tr>\n",
       "    <tr>\n",
       "      <th>2</th>\n",
       "      <td>0.1</td>\n",
       "      <td>0.100</td>\n",
       "      <td>0.107647</td>\n",
       "      <td>0.082222</td>\n",
       "    </tr>\n",
       "    <tr>\n",
       "      <th>3</th>\n",
       "      <td>1.0</td>\n",
       "      <td>0.001</td>\n",
       "      <td>0.997773</td>\n",
       "      <td>0.988889</td>\n",
       "    </tr>\n",
       "    <tr>\n",
       "      <th>4</th>\n",
       "      <td>1.0</td>\n",
       "      <td>0.010</td>\n",
       "      <td>1.000000</td>\n",
       "      <td>0.764444</td>\n",
       "    </tr>\n",
       "    <tr>\n",
       "      <th>5</th>\n",
       "      <td>1.0</td>\n",
       "      <td>0.100</td>\n",
       "      <td>1.000000</td>\n",
       "      <td>0.082222</td>\n",
       "    </tr>\n",
       "    <tr>\n",
       "      <th>6</th>\n",
       "      <td>10.0</td>\n",
       "      <td>0.001</td>\n",
       "      <td>1.000000</td>\n",
       "      <td>0.991111</td>\n",
       "    </tr>\n",
       "    <tr>\n",
       "      <th>7</th>\n",
       "      <td>10.0</td>\n",
       "      <td>0.010</td>\n",
       "      <td>1.000000</td>\n",
       "      <td>0.793333</td>\n",
       "    </tr>\n",
       "    <tr>\n",
       "      <th>8</th>\n",
       "      <td>10.0</td>\n",
       "      <td>0.100</td>\n",
       "      <td>1.000000</td>\n",
       "      <td>0.082222</td>\n",
       "    </tr>\n",
       "    <tr>\n",
       "      <th>9</th>\n",
       "      <td>100.0</td>\n",
       "      <td>0.001</td>\n",
       "      <td>1.000000</td>\n",
       "      <td>0.991111</td>\n",
       "    </tr>\n",
       "    <tr>\n",
       "      <th>10</th>\n",
       "      <td>100.0</td>\n",
       "      <td>0.010</td>\n",
       "      <td>1.000000</td>\n",
       "      <td>0.793333</td>\n",
       "    </tr>\n",
       "    <tr>\n",
       "      <th>11</th>\n",
       "      <td>100.0</td>\n",
       "      <td>0.100</td>\n",
       "      <td>1.000000</td>\n",
       "      <td>0.082222</td>\n",
       "    </tr>\n",
       "    <tr>\n",
       "      <th>12</th>\n",
       "      <td>1000.0</td>\n",
       "      <td>0.001</td>\n",
       "      <td>1.000000</td>\n",
       "      <td>0.991111</td>\n",
       "    </tr>\n",
       "    <tr>\n",
       "      <th>13</th>\n",
       "      <td>1000.0</td>\n",
       "      <td>0.010</td>\n",
       "      <td>1.000000</td>\n",
       "      <td>0.793333</td>\n",
       "    </tr>\n",
       "    <tr>\n",
       "      <th>14</th>\n",
       "      <td>1000.0</td>\n",
       "      <td>0.100</td>\n",
       "      <td>1.000000</td>\n",
       "      <td>0.082222</td>\n",
       "    </tr>\n",
       "  </tbody>\n",
       "</table>\n",
       "</div>"
      ],
      "text/plain": [
       "         C  gamma  train_accuracy  test_accuracy\n",
       "0      0.1  0.001        0.970304       0.964444\n",
       "1      0.1  0.010        0.107647       0.082222\n",
       "2      0.1  0.100        0.107647       0.082222\n",
       "3      1.0  0.001        0.997773       0.988889\n",
       "4      1.0  0.010        1.000000       0.764444\n",
       "5      1.0  0.100        1.000000       0.082222\n",
       "6     10.0  0.001        1.000000       0.991111\n",
       "7     10.0  0.010        1.000000       0.793333\n",
       "8     10.0  0.100        1.000000       0.082222\n",
       "9    100.0  0.001        1.000000       0.991111\n",
       "10   100.0  0.010        1.000000       0.793333\n",
       "11   100.0  0.100        1.000000       0.082222\n",
       "12  1000.0  0.001        1.000000       0.991111\n",
       "13  1000.0  0.010        1.000000       0.793333\n",
       "14  1000.0  0.100        1.000000       0.082222"
      ]
     },
     "metadata": {},
     "output_type": "display_data"
    }
   ],
   "source": [
    "C_values = [0.1, 1.0, 10.0, 100.0, 1000.0]\n",
    "gamma_values = [0.001, 0.01, 0.1] #, 'scale', 'auto'\n",
    "result = []\n",
    "\n",
    "for C_value in C_values:\n",
    "    for gamma_value in gamma_values:\n",
    "        train_acc, test_acc = train_test_svm(0.25, C_value, gamma_value)\n",
    "        result.append({'C': C_value, 'gamma': gamma_value, 'train_accuracy': train_acc, 'test_accuracy': test_acc});\n",
    "\n",
    "df = pd.DataFrame(result)\n",
    "display(df)"
   ]
  },
  {
   "cell_type": "markdown",
   "metadata": {},
   "source": [
    "Wiederholen Sie das Experiment für einen anderen Zufallssplit in Trainings- und Testdatensatz. Wie stark hängt Ihr Ergebnis von der zufälligen Teilung in Trainings- und Testdatensatz ab?"
   ]
  },
  {
   "cell_type": "code",
   "execution_count": 5,
   "metadata": {},
   "outputs": [
    {
     "data": {
      "text/html": [
       "<div>\n",
       "<style scoped>\n",
       "    .dataframe tbody tr th:only-of-type {\n",
       "        vertical-align: middle;\n",
       "    }\n",
       "\n",
       "    .dataframe tbody tr th {\n",
       "        vertical-align: top;\n",
       "    }\n",
       "\n",
       "    .dataframe thead th {\n",
       "        text-align: right;\n",
       "    }\n",
       "</style>\n",
       "<table border=\"1\" class=\"dataframe\">\n",
       "  <thead>\n",
       "    <tr style=\"text-align: right;\">\n",
       "      <th></th>\n",
       "      <th>test_size</th>\n",
       "      <th>C</th>\n",
       "      <th>gamma</th>\n",
       "      <th>train_accuracy</th>\n",
       "      <th>test_accuracy</th>\n",
       "    </tr>\n",
       "  </thead>\n",
       "  <tbody>\n",
       "    <tr>\n",
       "      <th>0</th>\n",
       "      <td>0.1</td>\n",
       "      <td>0.1</td>\n",
       "      <td>0.001</td>\n",
       "      <td>0.977118</td>\n",
       "      <td>0.977778</td>\n",
       "    </tr>\n",
       "    <tr>\n",
       "      <th>1</th>\n",
       "      <td>0.1</td>\n",
       "      <td>0.1</td>\n",
       "      <td>0.010</td>\n",
       "      <td>0.105751</td>\n",
       "      <td>0.061111</td>\n",
       "    </tr>\n",
       "    <tr>\n",
       "      <th>2</th>\n",
       "      <td>0.1</td>\n",
       "      <td>0.1</td>\n",
       "      <td>0.100</td>\n",
       "      <td>0.105751</td>\n",
       "      <td>0.061111</td>\n",
       "    </tr>\n",
       "    <tr>\n",
       "      <th>3</th>\n",
       "      <td>0.1</td>\n",
       "      <td>1.0</td>\n",
       "      <td>0.001</td>\n",
       "      <td>0.998763</td>\n",
       "      <td>0.983333</td>\n",
       "    </tr>\n",
       "    <tr>\n",
       "      <th>4</th>\n",
       "      <td>0.1</td>\n",
       "      <td>1.0</td>\n",
       "      <td>0.010</td>\n",
       "      <td>1.000000</td>\n",
       "      <td>0.750000</td>\n",
       "    </tr>\n",
       "    <tr>\n",
       "      <th>...</th>\n",
       "      <td>...</td>\n",
       "      <td>...</td>\n",
       "      <td>...</td>\n",
       "      <td>...</td>\n",
       "      <td>...</td>\n",
       "    </tr>\n",
       "    <tr>\n",
       "      <th>70</th>\n",
       "      <td>0.9</td>\n",
       "      <td>100.0</td>\n",
       "      <td>0.010</td>\n",
       "      <td>1.000000</td>\n",
       "      <td>0.270705</td>\n",
       "    </tr>\n",
       "    <tr>\n",
       "      <th>71</th>\n",
       "      <td>0.9</td>\n",
       "      <td>100.0</td>\n",
       "      <td>0.100</td>\n",
       "      <td>1.000000</td>\n",
       "      <td>0.094561</td>\n",
       "    </tr>\n",
       "    <tr>\n",
       "      <th>72</th>\n",
       "      <td>0.9</td>\n",
       "      <td>1000.0</td>\n",
       "      <td>0.001</td>\n",
       "      <td>1.000000</td>\n",
       "      <td>0.942522</td>\n",
       "    </tr>\n",
       "    <tr>\n",
       "      <th>73</th>\n",
       "      <td>0.9</td>\n",
       "      <td>1000.0</td>\n",
       "      <td>0.010</td>\n",
       "      <td>1.000000</td>\n",
       "      <td>0.270705</td>\n",
       "    </tr>\n",
       "    <tr>\n",
       "      <th>74</th>\n",
       "      <td>0.9</td>\n",
       "      <td>1000.0</td>\n",
       "      <td>0.100</td>\n",
       "      <td>1.000000</td>\n",
       "      <td>0.094561</td>\n",
       "    </tr>\n",
       "  </tbody>\n",
       "</table>\n",
       "<p>75 rows × 5 columns</p>\n",
       "</div>"
      ],
      "text/plain": [
       "    test_size       C  gamma  train_accuracy  test_accuracy\n",
       "0         0.1     0.1  0.001        0.977118       0.977778\n",
       "1         0.1     0.1  0.010        0.105751       0.061111\n",
       "2         0.1     0.1  0.100        0.105751       0.061111\n",
       "3         0.1     1.0  0.001        0.998763       0.983333\n",
       "4         0.1     1.0  0.010        1.000000       0.750000\n",
       "..        ...     ...    ...             ...            ...\n",
       "70        0.9   100.0  0.010        1.000000       0.270705\n",
       "71        0.9   100.0  0.100        1.000000       0.094561\n",
       "72        0.9  1000.0  0.001        1.000000       0.942522\n",
       "73        0.9  1000.0  0.010        1.000000       0.270705\n",
       "74        0.9  1000.0  0.100        1.000000       0.094561\n",
       "\n",
       "[75 rows x 5 columns]"
      ]
     },
     "metadata": {},
     "output_type": "display_data"
    }
   ],
   "source": [
    "test_sizes = [0.1, 0.25, 0.5, 0.75, 0.9]\n",
    "result_test = []\n",
    "\n",
    "for test_size in test_sizes:\n",
    "    for C_value in C_values:\n",
    "        for gamma_value in gamma_values:\n",
    "            train_acc, test_acc = train_test_svm(test_size, C_value, gamma_value)\n",
    "            result_test.append({'test_size': test_size, 'C': C_value, 'gamma': gamma_value, 'train_accuracy': train_acc, 'test_accuracy': test_acc});\n",
    "\n",
    "df = pd.DataFrame(result_test)\n",
    "display(df)"
   ]
  },
  {
   "cell_type": "code",
   "execution_count": 6,
   "metadata": {},
   "outputs": [
    {
     "data": {
      "application/json": {
       "Software versions": [
        {
         "module": "Python",
         "version": "3.12.0 64bit [MSC v.1935 64 bit (AMD64)]"
        },
        {
         "module": "IPython",
         "version": "8.16.1"
        },
        {
         "module": "OS",
         "version": "Windows 10 10.0.19045 SP0"
        }
       ]
      },
      "text/html": [
       "<table><tr><th>Software</th><th>Version</th></tr><tr><td>Python</td><td>3.12.0 64bit [MSC v.1935 64 bit (AMD64)]</td></tr><tr><td>IPython</td><td>8.16.1</td></tr><tr><td>OS</td><td>Windows 10 10.0.19045 SP0</td></tr><tr><td colspan='2'>Wed Nov 22 17:25:32 2023 Mitteleuropäische Zeit</td></tr></table>"
      ],
      "text/latex": [
       "\\begin{tabular}{|l|l|}\\hline\n",
       "{\\bf Software} & {\\bf Version} \\\\ \\hline\\hline\n",
       "Python & 3.12.0 64bit [MSC v.1935 64 bit (AMD64)] \\\\ \\hline\n",
       "IPython & 8.16.1 \\\\ \\hline\n",
       "OS & Windows 10 10.0.19045 SP0 \\\\ \\hline\n",
       "\\hline \\multicolumn{2}{|l|}{Wed Nov 22 17:25:32 2023 Mitteleuropäische Zeit} \\\\ \\hline\n",
       "\\end{tabular}\n"
      ],
      "text/plain": [
       "Software versions\n",
       "Python 3.12.0 64bit [MSC v.1935 64 bit (AMD64)]\n",
       "IPython 8.16.1\n",
       "OS Windows 10 10.0.19045 SP0\n",
       "Wed Nov 22 17:25:32 2023 Mitteleuropäische Zeit"
      ]
     },
     "execution_count": 6,
     "metadata": {},
     "output_type": "execute_result"
    }
   ],
   "source": [
    "%version_information"
   ]
  }
 ],
 "metadata": {
  "kernelspec": {
   "display_name": ".venv",
   "language": "python",
   "name": "python3"
  },
  "language_info": {
   "codemirror_mode": {
    "name": "ipython",
    "version": 3
   },
   "file_extension": ".py",
   "mimetype": "text/x-python",
   "name": "python",
   "nbconvert_exporter": "python",
   "pygments_lexer": "ipython3",
   "version": "3.12.0"
  }
 },
 "nbformat": 4,
 "nbformat_minor": 2
}
