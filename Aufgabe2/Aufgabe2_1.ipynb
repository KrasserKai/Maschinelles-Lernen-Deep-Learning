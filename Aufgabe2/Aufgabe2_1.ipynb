{
 "cells": [
  {
   "cell_type": "markdown",
   "metadata": {},
   "source": [
    "# 1. Linear Regression on Fish Data"
   ]
  },
  {
   "cell_type": "code",
   "execution_count": null,
   "metadata": {},
   "outputs": [],
   "source": [
    "import matplotlib.pyplot as plt\n",
    "import numpy as np\n",
    "import pandas as pd\n",
    "%matplotlib inline\n",
    "%load_ext version_information"
   ]
  },
  {
   "cell_type": "code",
   "execution_count": null,
   "metadata": {},
   "outputs": [],
   "source": [
    "# The Fish Data Set\n",
    "# See example 2 from https://stats.idre.ucla.edu/r/dae/zip/ \n",
    "#\"nofish\",\"livebait\",\"camper\",\"persons\",\"child\",\"xb\",\"zg\",\"count\"\n",
    "import os\n",
    "from urllib.request import urlretrieve\n",
    "if not os.path.isfile('fishing.npz'):\n",
    "    print(\"Downloading\")\n",
    "    urlretrieve('http://www-home.htwg-konstanz.de/~oduerr/data/fishing.npz',filename = 'fishing.npz')\n",
    "d = np.load('fishing.npz')\n",
    "Xt = d['Xt'] #\"livebait\",\"camper\",\"persons\",\"child\"\n",
    "Xte = d['Xte']\n",
    "yt = d['yt']\n",
    "yte = d['yte']\n",
    "pd.DataFrame(Xt[0:2])"
   ]
  },
  {
   "cell_type": "markdown",
   "metadata": {},
   "source": [
    "### a) Do a linear regression by creating a design matrix with the intercept term and use the fomulae given in the lecture to determine the coefficients on the training set."
   ]
  },
  {
   "cell_type": "code",
   "execution_count": null,
   "metadata": {},
   "outputs": [],
   "source": [
    "intercept_column = np.ones((Xt.shape[0], 1))\n",
    "Xt_with_intercept = np.concatenate((intercept_column, Xt), axis=1)\n",
    "\n",
    "# w = (X^TX)^-1X^Ty\n",
    "XTX = np.matmul(Xt_with_intercept.T, Xt_with_intercept)\n",
    "XTXI = np.linalg.inv(XTX)\n",
    "XTXIXT = np.matmul(XTXI, Xt_with_intercept.T)\n",
    "w = np.matmul(XTXIXT, yt)\n",
    "w"
   ]
  },
  {
   "cell_type": "markdown",
   "metadata": {},
   "source": [
    "### b) Repeat a) but this time with LinearRegression from sklearn.linear_model"
   ]
  },
  {
   "cell_type": "code",
   "execution_count": null,
   "metadata": {},
   "outputs": [],
   "source": [
    "from sklearn.linear_model import LinearRegression\n",
    "model_skl = LinearRegression(fit_intercept=False) # We have an extended X\n",
    "model_skl.fit(Xt_with_intercept,yt)\n",
    "model_skl.coef_"
   ]
  },
  {
   "cell_type": "markdown",
   "metadata": {},
   "source": [
    "### c) Determine the Root Mean Square Error (RMSE) and the average negative log-likelihood (NLL) on the testset. For NLL we assume that the conditional probability distrubution (CPD) p(y|x) is given by the density of a Gaussian with constant variance phi². Estimate phi² using the variance of the residuals. Use the variance estimation with 1/N."
   ]
  },
  {
   "cell_type": "code",
   "execution_count": null,
   "metadata": {},
   "outputs": [],
   "source": [
    "intercept_column = np.ones((Xte.shape[0], 1))\n",
    "Xte_with_intercept = np.concatenate((intercept_column, Xte), axis=1)\n",
    "\n",
    "# Calculate predicted values on the test set\n",
    "y_pred = np.matmul(Xte_with_intercept, w)\n",
    "# Calculate residuals\n",
    "residuals = yte - y_pred\n",
    "# Calculate RMSE\n",
    "rmse = np.sqrt(np.mean(residuals**2))\n",
    "print(rmse)\n",
    "# Estimate the variance of residuals\n",
    "variance_estimation = np.var(residuals, ddof=1) # ddof=1 for unbiased estimation\n",
    "print(variance_estimation)\n",
    "# Calculate NLL using Gaussian density\n",
    "nll = 0.5 * (np.log(2 * np.pi * variance_estimation) + np.mean(residuals**2) / variance_estimation)\n",
    "print(nll)"
   ]
  },
  {
   "cell_type": "markdown",
   "metadata": {},
   "source": [
    "### d) For the testset: plot the predicted mean number of fish caught (µ) against observed number of fish caught. Further include the 2.5 and 97.5 precentile of p(y|x), the conditional predictive distribution (CPD) of y for a given x. Why is a Gaussian not ideal for that kind of data?"
   ]
  },
  {
   "cell_type": "code",
   "execution_count": null,
   "metadata": {},
   "outputs": [],
   "source": [
    "# Calculate standard deviation of residuals\n",
    "residual_std = np.std(residuals)\n",
    "# 2.5%\n",
    "lower_percentile = y_pred - 1.96 * residual_std\n",
    "# 97.5%\n",
    "upper_percentile = y_pred + 1.96 * residual_std\n",
    "\n",
    "plt.scatter(y_pred, yte, alpha=0.5)\n",
    "plt.fill_between(y_pred, lower_percentile, upper_percentile, color='gray', alpha=0.2, label='95% Prediction Interval')\n",
    "plt.xlabel('Predicted Mean Number of Fish Caught')\n",
    "plt.ylabel('Observed Number of Fish Caught')\n",
    "plt.show()"
   ]
  },
  {
   "cell_type": "markdown",
   "metadata": {},
   "source": [
    "Diskrete Daten, viele niedrige und wenige sehr hohe Beobachtungen sowie viele Beobachtungen von 0 Fischen."
   ]
  },
  {
   "cell_type": "markdown",
   "metadata": {},
   "source": [
    "### e) This data is count data. Count data has only positive values and also the distribution is discrete. You cannot catch 0.5 fish and that the CPD has probability density > 0 on negative number of fish is wrong too. A Gaussian as a CPD is therefore not ideal. Now use a Poissonian as CPD. [...] Use a gradient descent approach on the NLL to find the solution for the parameters. Calculate the RMSE and the NLL on the test set and compare with c)."
   ]
  },
  {
   "cell_type": "code",
   "execution_count": null,
   "metadata": {},
   "outputs": [],
   "source": []
  },
  {
   "cell_type": "markdown",
   "metadata": {},
   "source": [
    "### f) Do the same plot as in d) but this time with a Poisson CPD. Hint you can use scipy.stats.poisson to calculate the percentiles."
   ]
  },
  {
   "cell_type": "code",
   "execution_count": null,
   "metadata": {},
   "outputs": [],
   "source": [
    "from scipy.stats import poisson\n",
    "y_pred = np.matmul(Xte_with_intercept, w)\n",
    "\n",
    "# 2.5%\n",
    "lower_percentile = poisson.ppf(0.025, y_pred)\n",
    "# 97.5%\n",
    "lower_percentile = poisson.ppf(0.975, y_pred)\n",
    "\n",
    "plt.scatter(y_pred, yte, alpha=0.5)\n",
    "plt.fill_between(y_pred, lower_percentile, upper_percentile, color='gray', alpha=0.2, label='95% Prediction Interval')\n",
    "plt.xlabel('Predicted Mean Number of Fish Caught')\n",
    "plt.ylabel('Observed Number of Fish Caught')\n",
    "plt.show()"
   ]
  },
  {
   "cell_type": "code",
   "execution_count": null,
   "metadata": {},
   "outputs": [],
   "source": [
    "%version_information"
   ]
  }
 ],
 "metadata": {
  "kernelspec": {
   "display_name": ".venv",
   "language": "python",
   "name": "python3"
  },
  "language_info": {
   "codemirror_mode": {
    "name": "ipython",
    "version": 3
   },
   "file_extension": ".py",
   "mimetype": "text/x-python",
   "name": "python",
   "nbconvert_exporter": "python",
   "pygments_lexer": "ipython3",
   "version": "3.12.0"
  }
 },
 "nbformat": 4,
 "nbformat_minor": 2
}
